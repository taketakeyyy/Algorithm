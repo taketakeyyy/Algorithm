{
 "nbformat": 4,
 "nbformat_minor": 2,
 "metadata": {
  "language_info": {
   "name": "python",
   "codemirror_mode": {
    "name": "ipython",
    "version": 3
   },
   "version": "3.7.1-final"
  },
  "orig_nbformat": 2,
  "file_extension": ".py",
  "mimetype": "text/x-python",
  "name": "python",
  "npconvert_exporter": "python",
  "pygments_lexer": "ipython3",
  "version": 3,
  "kernelspec": {
   "name": "python37164bitpy371conda7496ccb775b1428aa3252e94c80a8296",
   "display_name": "Python 3.7.1 64-bit ('py371': conda)",
   "language": "python"
  }
 },
 "cells": [
  {
   "cell_type": "code",
   "execution_count": 9,
   "metadata": {},
   "outputs": [],
   "source": [
    "def mod_pow(a, n, m):\n",
    "    \"\"\"a^{n} mod m の計算を、繰り返し二乗法で求める\n",
    "    \n",
    "    計算量:\n",
    "        O(log n)\n",
    "    \"\"\"\n",
    "    if n==0: return 1\n",
    "    res = mod_pow(a*a%m, n//2, m)\n",
    "    if (n&1): res = res * a % m\n",
    "    return res"
   ]
  },
  {
   "cell_type": "code",
   "execution_count": 10,
   "metadata": {},
   "outputs": [
    {
     "output_type": "execute_result",
     "data": {
      "text/plain": [
       "1048576"
      ]
     },
     "metadata": {},
     "execution_count": 10
    }
   ],
   "source": [
    "mod_pow(2, 20, 10**9+7)"
   ]
  },
  {
   "cell_type": "code",
   "execution_count": 13,
   "metadata": {},
   "outputs": [
    {
     "output_type": "execute_result",
     "data": {
      "text/plain": [
       "140625001"
      ]
     },
     "metadata": {},
     "execution_count": 13
    }
   ],
   "source": [
    "mod_pow(2, 1000000000, 10**9+7)"
   ]
  },
  {
   "cell_type": "code",
   "execution_count": 14,
   "metadata": {},
   "outputs": [
    {
     "output_type": "execute_result",
     "data": {
      "text/plain": [
       "1024"
      ]
     },
     "metadata": {},
     "execution_count": 14
    }
   ],
   "source": [
    "mod_pow(2, 10, 10**9+7)"
   ]
  },
  {
   "cell_type": "code",
   "execution_count": 12,
   "metadata": {},
   "outputs": [],
   "source": [
    "# Pythonの場合、組み込み関数のpow()が繰り返し二乗法なので、そちらを使っても良い\n",
    "# https://docs.python.org/ja/3/library/functions.html#pow"
   ]
  },
  {
   "cell_type": "code",
   "execution_count": 13,
   "metadata": {},
   "outputs": [
    {
     "data": {
      "text/plain": "140625001"
     },
     "execution_count": 13,
     "metadata": {},
     "output_type": "execute_result"
    }
   ],
   "source": [
    "pow(2, 1000000000, 10**9+7)"
   ]
  },
  {
   "cell_type": "code",
   "execution_count": 3,
   "metadata": {},
   "outputs": [
    {
     "data": {
      "text/plain": "1024"
     },
     "execution_count": 3,
     "metadata": {},
     "output_type": "execute_result"
    }
   ],
   "source": [
    "pow(2, 10)"
   ]
  },
  {
   "cell_type": "code",
   "execution_count": null,
   "metadata": {},
   "outputs": [],
   "source": []
  }
 ]
}