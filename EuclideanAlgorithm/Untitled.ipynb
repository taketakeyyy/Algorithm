{
 "cells": [
  {
   "cell_type": "code",
   "execution_count": 16,
   "metadata": {},
   "outputs": [],
   "source": [
    "def extgcd(a,b):\n",
    "    \"\"\"拡張ユークリッド互除法\n",
    "    ax+by=gcd(a,b)を満たす整数解x,yを求める\n",
    "    \n",
    "    Args:\n",
    "        a(int)\n",
    "        b(int)\n",
    "    \n",
    "    Returns:\n",
    "        d, x, y(tuple)\n",
    "            d(int): gcd(a,b)\n",
    "            x(int): xの整数解\n",
    "            y(int): yの整数解\n",
    "    \"\"\"\n",
    "    def _extgcd(a,b,x,y):\n",
    "        if b == 0:\n",
    "            return a, 1, 0\n",
    "        d, y, x = _extgcd(b, a%b, y, x)\n",
    "        y -= (a//b) * x\n",
    "        return d, x, y\n",
    "    return _extgcd(a,b,0,0)"
   ]
  },
  {
   "cell_type": "code",
   "execution_count": 18,
   "metadata": {},
   "outputs": [
    {
     "name": "stdout",
     "output_type": "stream",
     "text": [
      "(3, 3, -11)\n"
     ]
    }
   ],
   "source": [
    "a = extgcd(111, 30)\n",
    "print(a)"
   ]
  },
  {
   "cell_type": "code",
   "execution_count": 19,
   "metadata": {},
   "outputs": [
    {
     "name": "stdout",
     "output_type": "stream",
     "text": [
      "(1, 3, -1)\n"
     ]
    }
   ],
   "source": [
    "a = extgcd(4, 11)\n",
    "print(a)"
   ]
  },
  {
   "cell_type": "code",
   "execution_count": 21,
   "metadata": {},
   "outputs": [
    {
     "name": "stdout",
     "output_type": "stream",
     "text": [
      "1\n",
      "3 -1\n"
     ]
    }
   ],
   "source": [
    "# 4x + 11y = 1となる整数x,yを求めよ\n",
    "a, b = 4, 11\n",
    "d, x, y = extgcd(a,b)\n",
    "print(d, x, y)\n",
    "# d = 1より、\n",
    "# 4x + 11y = 1の整数解が x=3, y=-1\n",
    "# そのままが求めたい答え\n",
    "print(x,y)\n",
    "# x = 3, y = -1"
   ]
  },
  {
   "cell_type": "code",
   "execution_count": 24,
   "metadata": {},
   "outputs": [
    {
     "name": "stdout",
     "output_type": "stream",
     "text": [
      "3 3 -11\n",
      "12 -44\n"
     ]
    }
   ],
   "source": [
    "# 111x + 30y = 12となる整数x,yを求めよ\n",
    "a, b = 111, 30\n",
    "d, x, y = extgcd(a,b)\n",
    "print(d, x, y)\n",
    "# d = 3より、\n",
    "# 111x + 30y = 3の整数解が x=3, y=-11\n",
    "# 求めたい解は、両辺4倍すればよい。よって4x,4yが答え\n",
    "print(4*x,4*y)\n",
    "# x = 12, y = -44"
   ]
  },
  {
   "cell_type": "code",
   "execution_count": 27,
   "metadata": {},
   "outputs": [
    {
     "name": "stdout",
     "output_type": "stream",
     "text": [
      "3 3 -11\n",
      "4.5 -16.5\n"
     ]
    }
   ],
   "source": [
    "# 111x + 30y = 18となる整数x,yを求めよ\n",
    "a, b = 111, 30\n",
    "d, x, y = extgcd(a,b)\n",
    "print(d, x, y)\n",
    "# d = 3より、\n",
    "# 111x + 30y = 3の整数解が x=3, y=-11\n",
    "# 求めたい解は、両辺1.5倍すればよい。よって1.5x,1.5yが答え\n",
    "print(1.5*x,1.5*y)\n",
    "# x = 4.5, y = -16.5\n",
    "# これらは整数ではないので、求めたい整数解は存在しない"
   ]
  },
  {
   "cell_type": "code",
   "execution_count": null,
   "metadata": {},
   "outputs": [],
   "source": []
  }
 ],
 "metadata": {
  "kernelspec": {
   "display_name": "Python 3",
   "language": "python",
   "name": "python3"
  },
  "language_info": {
   "codemirror_mode": {
    "name": "ipython",
    "version": 3
   },
   "file_extension": ".py",
   "mimetype": "text/x-python",
   "name": "python",
   "nbconvert_exporter": "python",
   "pygments_lexer": "ipython3",
   "version": "3.6.10"
  }
 },
 "nbformat": 4,
 "nbformat_minor": 4
}
