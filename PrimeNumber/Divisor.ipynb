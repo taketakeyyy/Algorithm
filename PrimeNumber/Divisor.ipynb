{
 "cells": [
  {
   "cell_type": "code",
   "execution_count": 6,
   "metadata": {},
   "outputs": [],
   "source": [
    "def divisor(n):\n",
    "    \"\"\"正整数nの約数を列挙する\n",
    "    \n",
    "    Args:\n",
    "        n(int): nの約数を列挙する\n",
    "    \n",
    "    Returns:\n",
    "        ans(list): 約数を格納したリスト\n",
    "    \"\"\"\n",
    "    i = 1\n",
    "    ans = []\n",
    "    while i*i <= n:\n",
    "        if n%i == 0:\n",
    "            ans.append(i)\n",
    "            if i != n//i: ans.append(n//i)\n",
    "        i += 1\n",
    "    return ans"
   ]
  },
  {
   "cell_type": "code",
   "execution_count": 7,
   "metadata": {
    "scrolled": true
   },
   "outputs": [
    {
     "name": "stdout",
     "output_type": "stream",
     "text": [
      "[1, 2, 4, 5, 10, 20, 25, 50, 100]\n"
     ]
    }
   ],
   "source": [
    "lst = divisor(100)\n",
    "lst.sort()\n",
    "print(lst)"
   ]
  }
 ],
 "metadata": {
  "kernelspec": {
   "display_name": "Python 3",
   "language": "python",
   "name": "python3"
  },
  "language_info": {
   "codemirror_mode": {
    "name": "ipython",
    "version": 3
   },
   "file_extension": ".py",
   "mimetype": "text/x-python",
   "name": "python",
   "nbconvert_exporter": "python",
   "pygments_lexer": "ipython3",
   "version": "3.6.5"
  }
 },
 "nbformat": 4,
 "nbformat_minor": 2
}
