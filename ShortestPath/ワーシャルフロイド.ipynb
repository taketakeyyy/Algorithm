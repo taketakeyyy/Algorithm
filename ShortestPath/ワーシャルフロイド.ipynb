{
 "nbformat": 4,
 "nbformat_minor": 2,
 "metadata": {
  "language_info": {
   "name": "python",
   "codemirror_mode": {
    "name": "ipython",
    "version": 3
   }
  },
  "orig_nbformat": 2,
  "file_extension": ".py",
  "mimetype": "text/x-python",
  "name": "python",
  "npconvert_exporter": "python",
  "pygments_lexer": "ipython3",
  "version": 3
 },
 "cells": [
  {
   "cell_type": "code",
   "execution_count": null,
   "metadata": {},
   "outputs": [],
   "source": [
    "class WarshallFloyd():\n",
    "    \"\"\"ワーシャルフロイド法\n",
    "    計算量:\n",
    "        O(V**3)\n",
    "    \"\"\"\n",
    "    def __init__(self, dist, v):\n",
    "        \"\"\"\n",
    "        Args:\n",
    "            dist: 初期化された隣接行列\n",
    "            V: 頂点数\n",
    "        \"\"\"\n",
    "        self.dist = dist\n",
    "        self.V = v\n",
    "        \n",
    "    def shortest_path(self):\n",
    "        \"\"\"最短経路を計算する\"\"\"\n",
    "        for k in range(self.V):\n",
    "            for i in range(self.V):\n",
    "                for j in range(self.V):\n",
    "                    if self.dist[i][k]+self.dist[k][j] < self.dist[i][j]:\n",
    "                        self.dist[i][j] = self.dist[i][k]+self.dist[k][j]\n",
    "        return self.dist\n"
   ]
  }
 ]
}