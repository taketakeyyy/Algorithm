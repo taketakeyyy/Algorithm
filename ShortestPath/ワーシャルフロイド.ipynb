{
 "nbformat": 4,
 "nbformat_minor": 2,
 "metadata": {
  "language_info": {
   "name": "python",
   "codemirror_mode": {
    "name": "ipython",
    "version": 3
   },
   "version": "3.6.10-final"
  },
  "orig_nbformat": 2,
  "file_extension": ".py",
  "mimetype": "text/x-python",
  "name": "python",
  "npconvert_exporter": "python",
  "pygments_lexer": "ipython3",
  "version": 3,
  "kernelspec": {
   "name": "python37164bitpy371conda7496ccb775b1428aa3252e94c80a8296",
   "display_name": "Python 3.7.1 64-bit ('py371': conda)"
  }
 },
 "cells": [
  {
   "cell_type": "code",
   "execution_count": 5,
   "metadata": {},
   "outputs": [],
   "source": [
    "class WarshallFloyd():\n",
    "    \"\"\"ワーシャルフロイド法\n",
    "    計算量:\n",
    "        O(V**3)\n",
    "    \"\"\"\n",
    "    def __init__(self, V):\n",
    "        \"\"\"\n",
    "        Args:\n",
    "            V: 頂点数\n",
    "        \"\"\"\n",
    "        self._dist = [[float(\"inf\") for _ in range(V)] for __ in range(V)]  # 隣接行列dist[i][j] := iからjへ行くまでのコスト\n",
    "        for i in range(V):\n",
    "            self._dist[i][i] = 0\n",
    "        self._V = V\n",
    "\n",
    "    @property\n",
    "    def dist(self):\n",
    "        \"\"\"隣接行列を返す\"\"\"\n",
    "        return self._dist\n",
    "\n",
    "    @property\n",
    "    def V(self):\n",
    "        \"\"\"頂点数を返す\"\"\"\n",
    "        return self._V\n",
    "\n",
    "    def update(self, a, b, cost):\n",
    "        \"\"\"隣接行列のコストを更新する\n",
    "        Args:\n",
    "            a(int): a地点から\n",
    "            b(int): b地点までの\n",
    "            cost(int): コストをcostに更新する\n",
    "        \"\"\"\n",
    "        self._dist[a][b] = cost\n",
    "\n",
    "    def shortest_path(self):\n",
    "        \"\"\"最短経路を計算する\"\"\"\n",
    "        for k in range(self.V):\n",
    "            for i in range(self.V):\n",
    "                for j in range(self.V):\n",
    "                    self._dist[i][j] = min(self._dist[i][j], self._dist[i][k]+self._dist[k][j])"
   ]
  },
  {
   "cell_type": "code",
   "execution_count": 6,
   "metadata": {},
   "outputs": [],
   "source": [
    "V = 5  # 頂点数\n",
    "\n",
    "# 頂点数5の隣接行列を作成する\n",
    "wf = WarshallFloyd(V)\n",
    "\n",
    "# 辺のコストを更新する\n",
    "wf.update(0, 1, 80)\n",
    "wf.update(1, 2, 20)\n",
    "wf.update(0, 2, 60)\n",
    "wf.update(2, 3, 50)\n",
    "wf.update(3, 4, 60)\n",
    "wf.update(1, 4, 90)\n",
    "\n",
    "# 全対最短経路を求める\n",
    "wf.shortest_path()"
   ]
  },
  {
   "cell_type": "code",
   "execution_count": 7,
   "metadata": {},
   "outputs": [
    {
     "output_type": "stream",
     "name": "stdout",
     "text": "170\n90\n110\n60\n0\n"
    }
   ],
   "source": [
    "# 各頂点の、頂点4までの最短経路を出力する\n",
    "for i in range(wf.V):\n",
    "    print(wf.dist[i][4])"
   ]
  },
  {
   "cell_type": "code",
   "execution_count": 8,
   "metadata": {},
   "outputs": [
    {
     "output_type": "stream",
     "name": "stdout",
     "text": "0\n80\n60\n110\n170\n"
    }
   ],
   "source": [
    "# 頂点0から、各頂点までの最短経路を出力する\n",
    "for i in range(wf.V):\n",
    "    print(wf.dist[0][i])"
   ]
  },
  {
   "cell_type": "code",
   "execution_count": 9,
   "metadata": {},
   "outputs": [
    {
     "output_type": "stream",
     "name": "stdout",
     "text": "80\n0\ninf\ninf\ninf\n"
    }
   ],
   "source": [
    "# 各頂点の、頂点1までの最短経路を出力する(infは到達不可能)\n",
    "for i in range(wf.V):\n",
    "    print(wf.dist[i][1])"
   ]
  }
 ]
}