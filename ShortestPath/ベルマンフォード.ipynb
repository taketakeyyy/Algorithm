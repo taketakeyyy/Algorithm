{
 "nbformat": 4,
 "nbformat_minor": 2,
 "metadata": {
  "language_info": {
   "name": "python",
   "codemirror_mode": {
    "name": "ipython",
    "version": 3
   },
   "version": "3.7.4-final"
  },
  "orig_nbformat": 2,
  "file_extension": ".py",
  "mimetype": "text/x-python",
  "name": "python",
  "npconvert_exporter": "python",
  "pygments_lexer": "ipython3",
  "version": 3,
  "kernelspec": {
   "name": "python3",
   "display_name": "Python 3"
  }
 },
 "cells": [
  {
   "cell_type": "code",
   "execution_count": 15,
   "metadata": {},
   "outputs": [],
   "source": [
    "class BellmanFord():\n",
    "    \"\"\"ベルマンフォード法で最短経路を求める\"\"\"\n",
    "    def __init__(self, s, V):\n",
    "        \"\"\"\n",
    "        Args:\n",
    "            s(int): 始点\n",
    "            V(int): 頂点数\n",
    "        \"\"\"\n",
    "        self.graph = {}\n",
    "        for i in range(V):\n",
    "            self.graph[i] = []\n",
    "        self._V = V\n",
    "        self.dst = [float(\"inf\") for _ in range(V)]\n",
    "        self.dst[s] = 0\n",
    "\n",
    "    @property\n",
    "    def dist(self):\n",
    "        return self.dst\n",
    "\n",
    "    @property\n",
    "    def V(self):\n",
    "        return self._V\n",
    "\n",
    "    def add(self, a, b, cost):\n",
    "        \"\"\"頂点aから頂点bへのコストはcost\"\"\"\n",
    "        self.graph[a].append((b, cost))\n",
    "\n",
    "    def shortest_path(self):\n",
    "        \"\"\"始点sからの最短経路を求める\n",
    "        Returns:\n",
    "            (bool): 負の閉路が存在する(True) / 存在しない(False)\n",
    "        \"\"\"\n",
    "        for t in range(self.V):\n",
    "            update = False\n",
    "            for u in range(self.V):\n",
    "                if self.dst[u] == float(\"inf\"): continue\n",
    "                for v, cost in self.graph[u]:\n",
    "                    self.dst[v]\n",
    "                    if self.dst[v] > self.dst[u] + cost:\n",
    "                        self.dst[v] = self.dst[u] + cost\n",
    "                        update = True\n",
    "\n",
    "                        if t == self.V-1:\n",
    "                            return True\n",
    "\n",
    "            if not update:\n",
    "                break\n",
    "\n",
    "        return False\n",
    ""
   ]
  },
  {
   "cell_type": "code",
   "execution_count": 19,
   "metadata": {},
   "outputs": [
    {
     "output_type": "stream",
     "name": "stdout",
     "text": "負の閉路は存在するか？:  False\n頂点5までの最短コスト:  7\n"
    }
   ],
   "source": [
    "V = 6\n",
    "bf = BellmanFord(0, V)\n",
    "bf.add(0, 1, 5)\n",
    "bf.add(0, 2, 4)\n",
    "bf.add(1, 2, -2)\n",
    "bf.add(1, 3, 1)\n",
    "bf.add(2, 3, 2)\n",
    "bf.add(2, 4, 1)\n",
    "bf.add(2, 5, 4)\n",
    "bf.add(3, 5, 3)\n",
    "bf.add(4, 5, 4)\n",
    "nloop = bf.shortest_path()\n",
    "\n",
    "print(\"負の閉路は存在するか？: \", nloop)\n",
    "print(\"頂点5までの最短コスト: \", bf.dist[5])"
   ]
  },
  {
   "cell_type": "code",
   "execution_count": 21,
   "metadata": {},
   "outputs": [
    {
     "output_type": "stream",
     "name": "stdout",
     "text": "負の閉路は存在するか？:  True\n頂点5までの最短コスト:  3\n"
    }
   ],
   "source": [
    "V = 6\n",
    "bf = BellmanFord(0, V)\n",
    "bf.add(0, 1, 5)\n",
    "bf.add(0, 2, 4)\n",
    "bf.add(1, 2, -2)\n",
    "bf.add(1, 3, 1)\n",
    "bf.add(2, 3, 2)\n",
    "bf.add(2, 4, 1)\n",
    "bf.add(2, 5, 4)\n",
    "bf.add(3, 1, -1)\n",
    "bf.add(3, 5, 3)\n",
    "bf.add(4, 5, 4)\n",
    "nloop = bf.shortest_path()\n",
    "\n",
    "print(\"負の閉路は存在するか？: \", nloop)\n",
    "print(\"頂点5までの最短コスト: \", bf.dist[5])  # 負の閉路が存在して最短コストは求まらない"
   ]
  },
  {
   "cell_type": "code",
   "execution_count": 22,
   "metadata": {},
   "outputs": [
    {
     "output_type": "stream",
     "name": "stdout",
     "text": "負の閉路は存在するか？:  True\n頂点5までの最短コスト:  7\n"
    }
   ],
   "source": [
    "V = 9\n",
    "bf = BellmanFord(0, V)\n",
    "bf.add(0, 1, 5)\n",
    "bf.add(0, 2, 4)\n",
    "bf.add(1, 2, -2)\n",
    "bf.add(1, 3, 1)\n",
    "bf.add(2, 3, 2)\n",
    "bf.add(2, 4, 1)\n",
    "bf.add(2, 5, 4)\n",
    "bf.add(3, 5, 3)\n",
    "bf.add(3, 6, -1)\n",
    "bf.add(4, 5, 4)\n",
    "bf.add(6, 7, -1)\n",
    "bf.add(7, 8, -1)\n",
    "bf.add(8, 6, -1)\n",
    "nloop = bf.shortest_path()\n",
    "\n",
    "print(\"負の閉路は存在するか？: \", nloop)\n",
    "print(\"頂点5までの最短コスト: \", bf.dist[5])  # 負の閉路が存在するのですべての頂点について最短経路は求まらないが、頂点5の最短距離は求まる"
   ]
  }
 ]
}