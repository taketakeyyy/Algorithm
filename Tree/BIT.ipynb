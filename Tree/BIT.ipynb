{
 "cells": [
  {
   "cell_type": "code",
   "execution_count": 18,
   "metadata": {},
   "outputs": [],
   "source": [
    "# http://hos.ac/slides/20140319_bit.pdf\n",
    "\"\"\"BIT実装例\n",
    "・N個の変数 v[1], ..., v[N]\n",
    "    - すべて0で初期化\n",
    "・2種類のクエリ\n",
    "    - v[a]に値wを加える\n",
    "    - prefix[1,a]のところの区間和v[1]+v[2]+..+v[a]を求める\n",
    "・クエリあたりO(logN)時間にしたい\n",
    "\n",
    "bit[1]からbit[N]までを使用(便宜上bit[0]は使用しない)\n",
    "\"\"\"\n",
    "class BIT():\n",
    "    def __init__(self, N):\n",
    "        self.N = N  # 要素数\n",
    "        self.bit = [0]*(N+1)\n",
    "\n",
    "    def add(self, a, w):\n",
    "        \"\"\"v[a]番目に値wを加える\n",
    "        O(logN)\n",
    "        \"\"\"\n",
    "        x = a\n",
    "        while x <= N:\n",
    "            self.bit[x] += w\n",
    "            x += x&-x\n",
    "\n",
    "    def sum(self, a):\n",
    "        \"\"\"vの区間[1,a]の和を求める\n",
    "        O(logN)\n",
    "        \"\"\"\n",
    "        ret, x = 0, a\n",
    "        while x > 0:\n",
    "            ret += self.bit[x]\n",
    "            x -= x&-x\n",
    "        return ret"
   ]
  },
  {
   "cell_type": "code",
   "execution_count": null,
   "metadata": {},
   "outputs": [],
   "source": [
    "\"\"\"v[a]を0以外の値で初期化\n",
    "・addをN回呼び出せばO(NlogN)時間\n",
    "    - 殆どの場合これで十分\n",
    "・v[x]=1 で初期化するならbit[x] = x & -x\n",
    "・一般にはbit[x]をv[x]で初期化したのち、\n",
    "for (int x=1; x<N; ++x) bit[x + (x&-x)] += bit[x];  \n",
    "\"\"\""
   ]
  },
  {
   "cell_type": "code",
   "execution_count": 28,
   "metadata": {
    "tags": []
   },
   "outputs": [],
   "source": [
    "\"\"\"例題\n",
    "v[1]=1, v[2]=2, v[3]=3, ... , v[100]=100 について考える\n",
    "\"\"\"\n",
    "# BITを初期化する\n",
    "N = 100\n",
    "bit = BIT(N)\n",
    "for i in range(1, N+1):\n",
    "    bit.add(i, i)\n"
   ]
  },
  {
   "cell_type": "code",
   "execution_count": 29,
   "metadata": {
    "tags": []
   },
   "outputs": [
    {
     "output_type": "stream",
     "name": "stdout",
     "text": "[0, 1, 3, 3, 10, 5, 11, 7, 36, 9, 19, 11, 42, 13, 27, 15, 136, 17, 35, 19, 74, 21, 43, 23, 164, 25, 51, 27, 106, 29, 59, 31, 528, 33, 67, 35, 138, 37, 75, 39, 292, 41, 83, 43, 170, 45, 91, 47, 648, 49, 99, 51, 202, 53, 107, 55, 420, 57, 115, 59, 234, 61, 123, 63, 2080, 65, 131, 67, 266, 69, 139, 71, 548, 73, 147, 75, 298, 77, 155, 79, 1160, 81, 163, 83, 330, 85, 171, 87, 676, 89, 179, 91, 362, 93, 187, 95, 2576, 97, 195, 99, 394]\n"
    }
   ],
   "source": [
    "# bitの中身を見る\n",
    "print(bit.bit)"
   ]
  },
  {
   "cell_type": "code",
   "execution_count": 30,
   "metadata": {
    "tags": []
   },
   "outputs": [
    {
     "output_type": "stream",
     "name": "stdout",
     "text": "1275\n"
    }
   ],
   "source": [
    "# vの[1,50]の区間和を求める\n",
    "print(bit.sum(50))"
   ]
  },
  {
   "cell_type": "code",
   "execution_count": 31,
   "metadata": {
    "tags": []
   },
   "outputs": [
    {
     "output_type": "stream",
     "name": "stdout",
     "text": "840\n"
    }
   ],
   "source": [
    "# vの[30,50]の区間和を求める\n",
    "print(bit.sum(50)-bit.sum(29))"
   ]
  }
 ],
 "metadata": {
  "language_info": {
   "codemirror_mode": {
    "name": "ipython",
    "version": 3
   },
   "file_extension": ".py",
   "mimetype": "text/x-python",
   "name": "python",
   "nbconvert_exporter": "python",
   "pygments_lexer": "ipython3",
   "version": "3.8.1-final"
  },
  "orig_nbformat": 2,
  "kernelspec": {
   "name": "python38132bitaab4d09aa74849a891b53ee13213fa7a",
   "display_name": "Python 3.8.1 32-bit"
  }
 },
 "nbformat": 4,
 "nbformat_minor": 2
}