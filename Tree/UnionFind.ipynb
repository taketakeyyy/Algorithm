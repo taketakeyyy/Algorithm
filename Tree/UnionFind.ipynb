{
 "cells": [
  {
   "cell_type": "code",
   "execution_count": null,
   "metadata": {},
   "outputs": [],
   "source": [
    "\"\"\"\n",
    "Union-Find木とは\n",
    "Union-FindまたはDisjoint Setとは、蟻本の言葉を借りると「グループ管理のためのデータ構造」。\n",
    "\n",
    "・要素aと要素bが同じグループかどうか\n",
    "\n",
    "・aが属するグループと、bが属するグループを併合(unite)する\n",
    "\n",
    "ということをしたいときに使います。\n",
    "\"\"\""
   ]
  },
  {
   "cell_type": "code",
   "execution_count": null,
   "metadata": {},
   "outputs": [],
   "source": [
    "\"\"\"\n",
    "UnionFindVerDepth\n",
    "\n",
    "Union-Find木（深さバージョン）の実装\n",
    "蟻本に書いてあるとおりの実装。\n",
    "\n",
    "グループの併合のとき、木の深さが深いものに浅いものを併合する。\n",
    "\n",
    "あまり使わない。競プロでは後述のサイズバージョンばかり使用している。\n",
    "\"\"\""
   ]
  },
  {
   "cell_type": "code",
   "execution_count": 2,
   "metadata": {},
   "outputs": [],
   "source": [
    "class UnionFindVerDepth():\n",
    "    def __init__(self, N):\n",
    "        \"\"\" N個のノードのUnion-Find木を作成する \"\"\"\n",
    "        # 親の番号を格納する。自分が親だった場合は、自分の番号になり、それがそのグループの番号になる\n",
    "        self._parent = [n for n in range(0, N)]\n",
    "        # グループの深さ\n",
    "        self._depth = [1] * N\n",
    "        # 連結成分の個数\n",
    "        self._group_num = N\n",
    "\n",
    "    def find_root(self, x):\n",
    "        \"\"\" xの木の根(xがどのグループか)を求める \"\"\"\n",
    "        if self._parent[x] == x: return x\n",
    "        self._parent[x] = self.find_root(self._parent[x]) # 縮約\n",
    "        return self._parent[x]\n",
    "\n",
    "    def unite(self, x, y):\n",
    "        \"\"\" xとyの属するグループを併合する \"\"\"\n",
    "        gx = self.find_root(x)\n",
    "        gy = self.find_root(y)\n",
    "        if gx == gy: return\n",
    "\n",
    "        # 小さい方を大きい方に併合させる（木の偏りが減るので）\n",
    "        if self._depth[gx] < self._depth[gy]:\n",
    "            self._parent[gx] = gy\n",
    "        else:\n",
    "            self._parent[gy] = gx\n",
    "            if self._depth[gx] == self._depth[gy]: self._depth[gx] += 1\n",
    "        self._group_num -= 1\n",
    "\n",
    "    def get_depth(self, x):\n",
    "        \"\"\" xが属するグループの深さを返す \"\"\"\n",
    "        return self._depth[self.find_root(x)]\n",
    "\n",
    "    def is_same_group(self, x, y):\n",
    "        \"\"\" xとyが同じ集合に属するか否か \"\"\"\n",
    "        return self.find_root(x) == self.find_root(y)\n",
    "\n",
    "    @property\n",
    "    def group_num(self):\n",
    "        \"\"\" 連結成分の個数を返す \"\"\"\n",
    "        return self._group_num"
   ]
  },
  {
   "cell_type": "code",
   "execution_count": null,
   "metadata": {},
   "outputs": [],
   "source": [
    "\"\"\"\n",
    "UnionFindVerSize\n",
    "\n",
    "Union-Find木（サイズバージョン）の実装\n",
    "Union-Findのサイズバージョン。\n",
    "\n",
    "グループの併合のとき、グループのサイズ（ノードの個数）が大きいものに、小さいものを併合させる。\n",
    "\n",
    "競プロでは大抵、ノードの個数やグループ数の最小値とかを求めるので、こちらを使うことが多い。\n",
    "\"\"\""
   ]
  },
  {
   "cell_type": "code",
   "execution_count": 3,
   "metadata": {},
   "outputs": [],
   "source": [
    "class UnionFindVerSize():\n",
    "    def __init__(self, N):\n",
    "        \"\"\" N個のノードのUnion-Find木を作成する \"\"\"\n",
    "        # 親の番号を格納する。自分が親だった場合は、自分の番号になり、それがそのグループの番号になる\n",
    "        self._parent = [n for n in range(0, N)]\n",
    "        # グループのサイズ（個数）\n",
    "        self._size = [1] * N\n",
    "        # 連結成分の個数\n",
    "        self._group_num = N\n",
    "\n",
    "    def find_root(self, x):\n",
    "        \"\"\" xの木の根(xがどのグループか)を求める \"\"\"\n",
    "        if self._parent[x] == x: return x\n",
    "        self._parent[x] = self.find_root(self._parent[x]) # 縮約\n",
    "        return self._parent[x]\n",
    "\n",
    "    def unite(self, x, y):\n",
    "        \"\"\" xとyの属するグループを併合する \"\"\"\n",
    "        gx = self.find_root(x)\n",
    "        gy = self.find_root(y)\n",
    "        if gx == gy: return\n",
    "\n",
    "        # 小さい方を大きい方に併合させる（木の偏りが減るので）\n",
    "        if self._size[gx] < self._size[gy]:\n",
    "            self._parent[gx] = gy\n",
    "            self._size[gy] += self._size[gx]\n",
    "        else:\n",
    "            self._parent[gy] = gx\n",
    "            self._size[gx] += self._size[gy]\n",
    "        self._group_num -= 1\n",
    "\n",
    "    def get_size(self, x):\n",
    "        \"\"\" xが属するグループのサイズ（個数）を返す \"\"\"\n",
    "        return self._size[self.find_root(x)]\n",
    "\n",
    "    def is_same_group(self, x, y):\n",
    "        \"\"\" xとyが同じ集合に属するか否か \"\"\"\n",
    "        return self.find_root(x) == self.find_root(y)\n",
    "\n",
    "    @property\n",
    "    def group_num(self):\n",
    "        \"\"\" 連結成分の個数を返す \"\"\"\n",
    "        return self._group_num"
   ]
  },
  {
   "cell_type": "code",
   "execution_count": 5,
   "metadata": {},
   "outputs": [
    {
     "name": "stdout",
     "output_type": "stream",
     "text": [
      "0\n",
      "4\n",
      "False\n",
      "5\n"
     ]
    }
   ],
   "source": [
    "N = 10\n",
    "uf = UnionFindVerSize(N)\n",
    "\n",
    "uf.unite(0, 1)\n",
    "uf.unite(1, 2)\n",
    "uf.unite(2, 3)\n",
    "uf.unite(4, 5)\n",
    "uf.unite(4, 6)\n",
    "\n",
    "# {0, 1, 2, 3}, {4, 5, 6}, {7}, {8}, {9} の5グループ\n",
    "\n",
    "a = uf.find_root(2)\n",
    "print(a) # 0\n",
    "\n",
    "a = uf.get_size(2)\n",
    "print(a) # 4\n",
    "\n",
    "a = uf.is_same_group(3, 4)\n",
    "print(a) # False\n",
    "\n",
    "a = uf.group_num\n",
    "print(a) # 5"
   ]
  },
  {
   "cell_type": "code",
   "execution_count": null,
   "metadata": {},
   "outputs": [],
   "source": []
  }
 ],
 "metadata": {
  "file_extension": ".py",
  "interpreter": {
   "hash": "4f3b078249380ea762697f4f8f6aea77b3d6e43cbb1b18cbb73d8cde5aa597e7"
  },
  "kernelspec": {
   "display_name": "Python 3.8.1 32-bit",
   "language": "python",
   "name": "python3"
  },
  "language_info": {
   "codemirror_mode": {
    "name": "ipython",
    "version": 3
   },
   "file_extension": ".py",
   "mimetype": "text/x-python",
   "name": "python",
   "nbconvert_exporter": "python",
   "pygments_lexer": "ipython3",
   "version": "3.8.11"
  },
  "mimetype": "text/x-python",
  "name": "python",
  "npconvert_exporter": "python",
  "orig_nbformat": 2,
  "pygments_lexer": "ipython3",
  "version": 3
 },
 "nbformat": 4,
 "nbformat_minor": 2
}
