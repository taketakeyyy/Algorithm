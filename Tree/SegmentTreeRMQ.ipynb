{
 "cells": [
  {
   "cell_type": "code",
   "execution_count": 1,
   "metadata": {},
   "outputs": [],
   "source": [
    "class SegmentTreeRMQ():\n",
    "    \"\"\"Range Minimum Query\"\"\"\n",
    "    \n",
    "    def __init__(self, lst, max_num=float(\"inf\")):\n",
    "        \"\"\"\n",
    "        Args:\n",
    "            lst: 元のリスト\n",
    "            max_num: セグ木の各ノードの初期値\n",
    "        \"\"\"\n",
    "        self.MAX_NUM = max_num #セグ木のノードの最大値\n",
    "        N = len(lst)\n",
    "        i, total = 1, 1\n",
    "        while True:\n",
    "            if N <= i:\n",
    "                break\n",
    "            i *= 2\n",
    "            total += i\n",
    "        self.N = i  # セグ木の葉の数\n",
    "        self.nodes = [self.MAX_NUM for _ in range(total)]\n",
    "        for i in range(len(lst)):\n",
    "            self.update(i, lst[i])\n",
    "    \n",
    "    def update(self, i, x):\n",
    "        \"\"\"元のリスト lst[i] に対応するセグ木のノード値をxに変更し、セグ木全体を更新する\"\"\"\n",
    "        ni = self._lst2node(i)\n",
    "        self.nodes[ni] = x\n",
    "        while ni > 0:\n",
    "            ni = (ni-1)//2\n",
    "            l, r = ni*2+1, ni*2+2\n",
    "            self.nodes[ni] = min(self.nodes[l], self.nodes[r])\n",
    "\n",
    "    def query(self, a, b):\n",
    "        \"\"\"区間 [a,b) のクエリに応答する\"\"\"\n",
    "        return self._find(a, b, 0, 0, self.N)\n",
    "\n",
    "    def _lst2node(self, i):\n",
    "        \"\"\"元のリスト lst[i] は、セグ木の i+(葉の数)-1 番目のノード\"\"\"\n",
    "        return i+self.N-1\n",
    "    \n",
    "    def _find(self, a, b, k, l, r):\n",
    "        \"\"\"区間 [a,b) のクエリに対して、担当区間 [l,r) のノード k が応答する\"\"\"\n",
    "        if r <= a or b <= l:\n",
    "            # 区間がかぶらない場合\n",
    "            return self.MAX_NUM\n",
    "        if a <= l and r <= b:\n",
    "            # 担当区間がすっぽり含まれる場合\n",
    "            return self.nodes[k]\n",
    "        # それ以外\n",
    "        ret1 = self._find(a, b, 2*k+1, l, (l+r)//2)  # 左の子に聞く\n",
    "        ret2 = self._find(a, b, 2*k+2, (l+r)//2, r)  # 右の子に聞く\n",
    "        return min(ret1, ret2)"
   ]
  },
  {
   "cell_type": "code",
   "execution_count": 36,
   "metadata": {},
   "outputs": [],
   "source": [
    "lst = [7, 3, 5, 4, 8, 9, 1, 0, 1, 3, 9, 4, 6, 2, 1, 9, 4, 5, 6, 7, 3, 5, 4, 1, 1, 2, 6, 8, 9, 5, 3]\n",
    "rmq = SegmentTreeRMQ(lst)"
   ]
  },
  {
   "cell_type": "code",
   "execution_count": 37,
   "metadata": {},
   "outputs": [
    {
     "name": "stdout",
     "output_type": "stream",
     "text": [
      "3\n"
     ]
    }
   ],
   "source": [
    "ans = rmq.query(1,6)  # lst[1:6]の最小値を求める\n",
    "print(ans)"
   ]
  },
  {
   "cell_type": "code",
   "execution_count": 38,
   "metadata": {},
   "outputs": [
    {
     "name": "stdout",
     "output_type": "stream",
     "text": [
      "4\n"
     ]
    }
   ],
   "source": [
    "rmq.update(1, 10)    # lst[1] = 10\n",
    "ans = rmq.query(1,6) # lst[1:6]の最小値を求める\n",
    "print(ans)"
   ]
  },
  {
   "cell_type": "code",
   "execution_count": 39,
   "metadata": {},
   "outputs": [
    {
     "name": "stdout",
     "output_type": "stream",
     "text": [
      "0\n"
     ]
    }
   ],
   "source": [
    "ans = rmq.query(0, len(lst))\n",
    "print(ans)"
   ]
  },
  {
   "cell_type": "code",
   "execution_count": 32,
   "metadata": {},
   "outputs": [],
   "source": [
    "import time\n",
    "import random\n",
    "\n",
    "N, Q = 10**6, 10**4\n",
    "MAX_NUM = 2**31-1\n",
    "lst = [MAX_NUM for _ in range(N)]\n",
    "i_list = [random.randint(0, N-1) for _ in range(Q)]\n",
    "x_list = [random.randint(0, MAX_NUM) for _ in range(Q)]\n",
    "\n",
    "l_list = []\n",
    "r_list = []\n",
    "for q in range(Q):\n",
    "    a, b = random.randint(0, N-1), random.randint(0, N-1)\n",
    "    l_list.append(min(a, b))\n",
    "    r_list.append(max(a, b))"
   ]
  },
  {
   "cell_type": "code",
   "execution_count": 33,
   "metadata": {},
   "outputs": [
    {
     "name": "stdout",
     "output_type": "stream",
     "text": [
      "Wall time: 54.6 s\n"
     ]
    }
   ],
   "source": [
    "%%time\n",
    "# N, Q = 10**6, 10**3 : 5.29s   (早い)\n",
    "# N, Q = 10**6, 10**4 : 54.6 s  (遅い)\n",
    "\n",
    "for q in range(Q):\n",
    "    # lst[i]の値を更新する\n",
    "    i, x = i_list[q], x_list[q]\n",
    "    lst[i] = x\n",
    "    \n",
    "    # [l,r)の範囲の最小値を出力する\n",
    "    l, r = l_list[q], r_list[q]\n",
    "    _ = min(lst[l:r+1])"
   ]
  },
  {
   "cell_type": "code",
   "execution_count": 34,
   "metadata": {},
   "outputs": [
    {
     "name": "stdout",
     "output_type": "stream",
     "text": [
      "Wall time: 7.95 s\n"
     ]
    }
   ],
   "source": [
    "%%time\n",
    "# N, Q = 10**6, 10**3 : 7.75s  (遅い)\n",
    "# N, Q = 10**6, 10**4 : 7.95 s (早い)\n",
    "\n",
    "rmq = SegmentTreeRMQ(lst, MAX_NUM)\n",
    "\n",
    "for q in range(Q):\n",
    "    # lst[i]の値を更新する\n",
    "    i, x = i_list[q], x_list[q]\n",
    "    rmq.update(i, x)\n",
    "    \n",
    "    # [l,r)の範囲の最小値を出力する\n",
    "    l, r = l_list[q], r_list[q]\n",
    "    _ = rmq.query(l, r+1)"
   ]
  },
  {
   "cell_type": "code",
   "execution_count": null,
   "metadata": {},
   "outputs": [],
   "source": [
    "# AOJ Range Minimum Query (RMQ)\n",
    "http://judge.u-aizu.ac.jp/onlinejudge/description.jsp?id=DSL_2_A&lang=ja"
   ]
  }
 ],
 "metadata": {
  "kernelspec": {
   "display_name": "Python 3",
   "language": "python",
   "name": "python3"
  },
  "language_info": {
   "codemirror_mode": {
    "name": "ipython",
    "version": 3
   },
   "file_extension": ".py",
   "mimetype": "text/x-python",
   "name": "python",
   "nbconvert_exporter": "python",
   "pygments_lexer": "ipython3",
   "version": "3.6.5"
  }
 },
 "nbformat": 4,
 "nbformat_minor": 2
}